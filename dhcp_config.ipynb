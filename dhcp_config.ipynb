{
 "cells": [
  {
   "cell_type": "markdown",
   "metadata": {},
   "source": [
    "# How to configure static route on dhcpd.conf\n",
    "\n",
    "In order to send classless static route to clients via rfc3442 dhcp option 121/249, you need to enable classless static route code 121 and 249 with the following line on your dhcpd.conf file"
   ]
  },
  {
   "cell_type": "code",
   "execution_count": null,
   "metadata": {},
   "outputs": [],
   "source": [
    "option rfc3442-classless-static-routes code 121 = array of integer 8;\n",
    "option ms-classless-static-routes code 249 = array of integer 8;"
   ]
  },
  {
   "cell_type": "markdown",
   "metadata": {},
   "source": [
    "for example to send the following route:"
   ]
  },
  {
   "cell_type": "code",
   "execution_count": null,
   "metadata": {},
   "outputs": [],
   "source": [
    "172.16.0.0/16 via 172.16.10.1\n",
    "10.0.1.0/24 via 172.16.10.1\n",
    "0.0.0.0/0 via 192.168.20.1"
   ]
  },
  {
   "cell_type": "markdown",
   "metadata": {},
   "source": [
    "use the following line inside the dhcp subnet declaration"
   ]
  },
  {
   "cell_type": "code",
   "execution_count": null,
   "metadata": {},
   "outputs": [],
   "source": [
    "option rfc3442-classless-static-routes  16, 172, 16, 172, 16, 10, 1, 24, 10, 0, 1, 172, 16, 10, 1, 0, 192, 168, 20, 1;\n",
    "option ms-classless-static-routes  16, 172, 16, 172, 16, 10, 1, 24, 10, 0, 1, 172, 16, 10, 1, 0, 192, 168, 20, 1;"
   ]
  }
 ],
 "metadata": {
  "kernelspec": {
   "display_name": "Python 3.7.6 64-bit ('env')",
   "metadata": {
    "interpreter": {
     "hash": "10a6228054f7ead8de23a4ac0ae53c48106f905296c639f711c7f306f0d762b8"
    }
   },
   "name": "python3"
  },
  "language_info": {
   "name": "python",
   "nbconvert_exporter": "python",
   "version": "3.7.6-final"
  },
  "orig_nbformat": 2
 },
 "nbformat": 4,
 "nbformat_minor": 2
}