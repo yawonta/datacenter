{
 "cells": [
  {
   "cell_type": "markdown",
   "metadata": {},
   "source": [
    "# DHCP CONFIGURATION NOTES"
   ]
  },
  {
   "cell_type": "markdown",
   "metadata": {},
   "source": [
    "#### BASIC DHCP CONFIG FILE\n",
    "\n",
    "A simple dhcp config file with single subnet:"
   ]
  },
  {
   "cell_type": "raw",
   "metadata": {},
   "source": [
    "authoritative;\n",
    "\n",
    "subnet 172.16.30.0 netmask 255.255.255.0{\n",
    "    option subnet-mask 255.255.255.0;\n",
    "    range dynamic-bootp 172.16.30.100 172.16.30.254;\n",
    "    default-lease-time 21600;\n",
    "    max-lease-time 43200;\n",
    "    option domain-name-servers 172.16.30.2;\n",
    "    option domain-name \"sample.domain\";\n",
    "    option routers 172.16.30.1;\n",
    "    next-server 172.16.30.2;\n",
    "}"
   ]
  },
  {
   "cell_type": "markdown",
   "metadata": {},
   "source": [
    "#### PXE AND DNS OPTIONS IN DHCP FILE\n",
    "\n",
    "To use dhcp server as a pxe server, add the following options below. With log-facility keyword, you can also enable separate dhcp log file for dhcp reqest/responses from clients. "
   ]
  },
  {
   "cell_type": "raw",
   "metadata": {},
   "source": [
    "option space PXE;\n",
    "option PXE.mtftp-ip code 1 = ip-address;\n",
    "option PXE.mtftp-cport code 2 = unsigned integer 16;\n",
    "option PXE.mtftp-sport code 3 = unsigned integer 16;\n",
    "option PXE.mtftp-tmout code 4 = unsigned integer 8;\n",
    "option PXE.mtftp-delay code 5 = unsigned integer 8;\n",
    "option arch code 93 = unsigned integer 16;\n",
    "ddns-updates on;\n",
    "ddns-update-style interim;\n",
    "ddns-rev-domainname \"in-addr.arpa.\";\n",
    "ignore client-updates;\n",
    "update-static-leases on;\n",
    "log-facility local6;"
   ]
  },
  {
   "cell_type": "markdown",
   "metadata": {},
   "source": [
    "#### PXE RESPONSE BASED ON CLIENT CODE\n",
    "\n",
    "To respond to pxe clients request via multiple UEFI type pxe requests, use the following class based constructs inside subnet definition:"
   ]
  },
  {
   "cell_type": "raw",
   "metadata": {},
   "source": [
    "    class \"iPXE\" {\n",
    "        match if exists user-class and ( option user-class = \"iPXE\" );\n",
    "        filename \"http://(http-server-address)/(boot-file-name.ipxe)\";\n",
    "    }\n",
    "    class \"Legacy\" {\n",
    "        match if substring(option vendor-class-identifier, 0, 20) = \"PXEClient:Arch:00000\";\n",
    "        filename \"undionly.kkpxe\";\n",
    "    }\n",
    "    class \"HTTP\" {\n",
    "        match if substring(option vendor-class-identifier, 0, 21) = \"HTTPClient:Arch:00016\";\n",
    "        option vendor-class-identifier \"HTTPClient\";\n",
    "        filename \"http://(http-server-address)/ipxe.efi\";\n",
    "    }\n",
    "    class \"UEFI-32-2\" {\n",
    "        match if substring(option vendor-class-identifier, 0, 20) = \"PXEClient:Arch:00002\";\n",
    "        filename \"i386-efi/ipxe.efi\";\n",
    "    }\n",
    "    class \"UEFI-32-1\" {\n",
    "        match if substring(option vendor-class-identifier, 0, 20) = \"PXEClient:Arch:00006\";\n",
    "        filename \"i386-efi/ipxe.efi\";\n",
    "    }\n",
    "    class \"UEFI-64-1\" {\n",
    "        match if substring(option vendor-class-identifier, 0, 20) = \"PXEClient:Arch:00007\";\n",
    "        filename \"ipxe.efi\";\n",
    "    }"
   ]
  },
  {
   "cell_type": "markdown",
   "metadata": {},
   "source": [
    "#### CLASSLESS-STATIC-ROUTES CONFIG \n",
    "\n",
    "In order to send classless static route to clients via rfc3442 dhcp option 121/249, you need to enable classless static route code 121 and 249 with the following line on your dhcpd.conf file"
   ]
  },
  {
   "cell_type": "code",
   "execution_count": null,
   "metadata": {},
   "outputs": [],
   "source": [
    "option rfc3442-classless-static-routes code 121 = array of integer 8;\n",
    "option ms-classless-static-routes code 249 = array of integer 8;"
   ]
  },
  {
   "cell_type": "markdown",
   "metadata": {},
   "source": [
    "for example to send the following route:"
   ]
  },
  {
   "cell_type": "code",
   "execution_count": null,
   "metadata": {},
   "outputs": [],
   "source": [
    "172.16.0.0/16 via 172.16.10.1\n",
    "10.0.1.0/24 via 172.16.10.1\n",
    "0.0.0.0/0 via 192.168.20.1"
   ]
  },
  {
   "cell_type": "markdown",
   "metadata": {},
   "source": [
    "use the following line inside the dhcp subnet declaration"
   ]
  },
  {
   "cell_type": "code",
   "execution_count": null,
   "metadata": {},
   "outputs": [],
   "source": [
    "option rfc3442-classless-static-routes  16, 172, 16, 172, 16, 10, 1, 24, 10, 0, 1, 172, 16, 10, 1, 0, 192, 168, 20, 1;\n",
    "option ms-classless-static-routes  16, 172, 16, 172, 16, 10, 1, 24, 10, 0, 1, 172, 16, 10, 1, 0, 192, 168, 20, 1;"
   ]
  }
 ],
 "metadata": {
  "kernelspec": {
   "display_name": "Python 3.7.6 64-bit ('env')",
   "metadata": {
    "interpreter": {
     "hash": "10a6228054f7ead8de23a4ac0ae53c48106f905296c639f711c7f306f0d762b8"
    }
   },
   "name": "python3"
  },
  "language_info": {
   "name": "python",
   "nbconvert_exporter": "python",
   "version": "3.7.6-final"
  },
  "orig_nbformat": 2
 },
 "nbformat": 4,
 "nbformat_minor": 2
}